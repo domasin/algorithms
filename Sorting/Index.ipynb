{
 "cells": [
  {
   "cell_type": "markdown",
   "metadata": {},
   "source": [
    "# Index\n",
    "\n",
    "| name | worst | average | best | real \n",
    "| --- | --- | --- | --- | --- |\n",
    "| [insertion sort](./InsertionSort.ipynb) | n<sup>2</sup> | n<sup>2</sup> | n | an<sup>2</sup> + bn + c\n",
    "| [selection sort](SelectionSort.ipynb) | n<sup>2</sup> | n<sup>2</sup> | n<sup>2</sup> | \n",
    "\n"
   ]
  }
 ],
 "metadata": {
  "kernelspec": {
   "display_name": ".NET (C#)",
   "language": "C#",
   "name": ".net-csharp"
  },
  "language_info": {
   "name": "polyglot-notebook"
  },
  "polyglot_notebook": {
   "kernelInfo": {
    "defaultKernelName": "csharp",
    "items": [
     {
      "aliases": [],
      "languageName": "csharp",
      "name": "csharp"
     }
    ]
   }
  }
 },
 "nbformat": 4,
 "nbformat_minor": 2
}
