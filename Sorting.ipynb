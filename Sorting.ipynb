{
 "cells": [
  {
   "cell_type": "markdown",
   "metadata": {},
   "source": [
    "# Index\n",
    "\n",
    "| name | worst | average | best | real \n",
    "| --- | --- | --- | --- | --- |\n",
    "| [insertion sort](#insertion-sort) | n<sup>2</sup> | n<sup>2</sup> | n | an<sup>2</sup> + bn + c\n",
    "| [selection sort](#selection-sort) | n<sup>2</sup> | n<sup>2</sup> | n<sup>2</sup> | "
   ]
  },
  {
   "cell_type": "markdown",
   "metadata": {},
   "source": [
    "# <a name=\"insertionSort\"></a>Insertion Sort"
   ]
  },
  {
   "cell_type": "markdown",
   "metadata": {},
   "source": [
    "## JS"
   ]
  },
  {
   "cell_type": "code",
   "execution_count": 3,
   "metadata": {
    "dotnet_interactive": {
     "language": "javascript"
    },
    "polyglot_notebook": {
     "kernelName": "javascript"
    }
   },
   "outputs": [
    {
     "data": {
      "text/plain": [
       "[3,2,1]"
      ]
     },
     "metadata": {},
     "output_type": "display_data"
    },
    {
     "data": {
      "text/plain": [
       "2 [3,3,1]"
      ]
     },
     "metadata": {},
     "output_type": "display_data"
    },
    {
     "data": {
      "text/plain": [
       "[2,3,1]"
      ]
     },
     "metadata": {},
     "output_type": "display_data"
    },
    {
     "data": {
      "text/plain": [
       "1 [2,3,3]"
      ]
     },
     "metadata": {},
     "output_type": "display_data"
    },
    {
     "data": {
      "text/plain": [
       "1 [2,2,3]"
      ]
     },
     "metadata": {},
     "output_type": "display_data"
    },
    {
     "data": {
      "text/plain": [
       "[1,2,3]"
      ]
     },
     "metadata": {},
     "output_type": "display_data"
    }
   ],
   "source": [
    "// https://en.khanacademy.org/computing/computer-science/algorithms/insertion-sort/pc/challenge-implement-insertion-sort\n",
    "\n",
    "var insert = function(array, rightIndex, value) {\n",
    "  for(var j = rightIndex;\n",
    "      j >= 0 && array[j] > value;\n",
    "      j--) {\n",
    "      array[j + 1] = array[j];\n",
    "    console.log(value + ' [' + array + ']');\n",
    "  }   \n",
    "  array[j + 1] = value; \n",
    "  console.log('[' + array + ']');\n",
    "};\n",
    "\n",
    "var insertionSort = function(array) {\n",
    "  for(var x = 1; x < array.length; x++) {\n",
    "      insert(array, x-1, array[x]);\n",
    "  }\n",
    "};\n",
    "\n",
    "var array = [3,2,1];\n",
    "console.log('['+array+']');\n",
    "insertionSort(array);"
   ]
  },
  {
   "cell_type": "markdown",
   "metadata": {},
   "source": [
    "## F#"
   ]
  },
  {
   "cell_type": "code",
   "execution_count": 4,
   "metadata": {
    "dotnet_interactive": {
     "language": "fsharp"
    },
    "polyglot_notebook": {
     "kernelName": "fsharp"
    }
   },
   "outputs": [
    {
     "name": "stdout",
     "output_type": "stream",
     "text": [
      "[] [3; 2; 1]\n",
      "[3] [2; 1]\n",
      "[2; 3] [1]\n",
      "[1; 2; 3] []\n"
     ]
    },
    {
     "data": {
      "text/html": [
       "<div class=\"dni-plaintext\"><pre>[ 1, 2, 3 ]</pre></div><style>\r\n",
       ".dni-code-hint {\r\n",
       "    font-style: italic;\r\n",
       "    overflow: hidden;\r\n",
       "    white-space: nowrap;\r\n",
       "}\r\n",
       ".dni-treeview {\r\n",
       "    white-space: nowrap;\r\n",
       "}\r\n",
       ".dni-treeview td {\r\n",
       "    vertical-align: top;\r\n",
       "    text-align: start;\r\n",
       "}\r\n",
       "details.dni-treeview {\r\n",
       "    padding-left: 1em;\r\n",
       "}\r\n",
       "table td {\r\n",
       "    text-align: start;\r\n",
       "}\r\n",
       "table tr { \r\n",
       "    vertical-align: top; \r\n",
       "    margin: 0em 0px;\r\n",
       "}\r\n",
       "table tr td pre \r\n",
       "{ \r\n",
       "    vertical-align: top !important; \r\n",
       "    margin: 0em 0px !important;\r\n",
       "} \r\n",
       "table th {\r\n",
       "    text-align: start;\r\n",
       "}\r\n",
       "</style>"
      ]
     },
     "metadata": {},
     "output_type": "display_data"
    }
   ],
   "source": [
    "// https://rosettacode.org/wiki/Sorting_algorithms/Insertion_sort#F#\n",
    "\n",
    "let insertionSort collection = \n",
    "\n",
    "    // Inserts an element into its correct place in a sorted collection\n",
    "    let rec sinsert element collection =\n",
    "        // printfn \"sinsert %A %A\" element collection\n",
    "        match element, collection with\n",
    "        | x, [] -> [x]\n",
    "        | x, y::ys when x < y -> x::y::ys\n",
    "        | x, y::ys -> y :: (ys |> sinsert x)\n",
    "\n",
    "    // Performs Insertion Sort\n",
    "    let rec isort acc collection = \n",
    "        printfn \"%A %A\" acc collection\n",
    "        match collection, acc with\n",
    "        | [], _ -> acc\n",
    "        | x::xs, ys -> xs |> isort (sinsert x ys)\n",
    "    collection |> isort []\n",
    "\n",
    "insertionSort [3;2;1]"
   ]
  },
  {
   "cell_type": "markdown",
   "metadata": {},
   "source": [
    "# Selection Sort"
   ]
  },
  {
   "cell_type": "markdown",
   "metadata": {},
   "source": [
    "## JS"
   ]
  },
  {
   "cell_type": "code",
   "execution_count": 3,
   "metadata": {
    "dotnet_interactive": {
     "language": "javascript"
    },
    "polyglot_notebook": {
     "kernelName": "javascript"
    }
   },
   "outputs": [
    {
     "data": {
      "text/plain": [
       "[3,2,1]"
      ]
     },
     "metadata": {},
     "output_type": "display_data"
    },
    {
     "data": {
      "text/plain": [
       "3"
      ]
     },
     "metadata": {},
     "output_type": "display_data"
    },
    {
     "data": {
      "text/plain": [
       "min: 3 2"
      ]
     },
     "metadata": {},
     "output_type": "display_data"
    },
    {
     "data": {
      "text/plain": [
       "min: 2 1"
      ]
     },
     "metadata": {},
     "output_type": "display_data"
    },
    {
     "data": {
      "text/plain": [
       "swap 3 1 [3,2,1]"
      ]
     },
     "metadata": {},
     "output_type": "display_data"
    },
    {
     "data": {
      "text/plain": [
       "[1,2,3]"
      ]
     },
     "metadata": {},
     "output_type": "display_data"
    },
    {
     "data": {
      "text/plain": [
       "2"
      ]
     },
     "metadata": {},
     "output_type": "display_data"
    },
    {
     "data": {
      "text/plain": [
       "min: 2 3"
      ]
     },
     "metadata": {},
     "output_type": "display_data"
    },
    {
     "data": {
      "text/plain": [
       "swap 2 2 [1,2,3]"
      ]
     },
     "metadata": {},
     "output_type": "display_data"
    },
    {
     "data": {
      "text/plain": [
       "[1,2,3]"
      ]
     },
     "metadata": {},
     "output_type": "display_data"
    },
    {
     "data": {
      "text/plain": [
       "3"
      ]
     },
     "metadata": {},
     "output_type": "display_data"
    },
    {
     "data": {
      "text/plain": [
       "swap 3 3 [1,2,3]"
      ]
     },
     "metadata": {},
     "output_type": "display_data"
    },
    {
     "data": {
      "text/plain": [
       "[1,2,3]"
      ]
     },
     "metadata": {},
     "output_type": "display_data"
    }
   ],
   "source": [
    "var swap = function(array, firstIndex, secondIndex) {\n",
    "    console.log('swap ' + array[firstIndex] + ' ' + array[secondIndex] + ' ['+array+']');\n",
    "  var temp = array[firstIndex];\n",
    "  array[firstIndex] = array[secondIndex];\n",
    "  array[secondIndex] = temp;\n",
    "};\n",
    "\n",
    "var indexOfMinimum = function(array, startIndex) {\n",
    "\n",
    "  var minValue = array[startIndex];\n",
    "    console.log(minValue);\n",
    "  var minIndex = startIndex;\n",
    "\n",
    "  for(var i = minIndex + 1; i < array.length; i++) {\n",
    "        console.log('min: ' + minValue + ' ' + array[i]);\n",
    "      if(array[i] < minValue) {\n",
    "          minIndex = i;\n",
    "          minValue = array[i];\n",
    "      }\n",
    "  } \n",
    "  return minIndex;\n",
    "}; \n",
    "\n",
    "var selectionSort = function(array) {\n",
    "  var minIndex;\n",
    "  for(var index = 0; index < array.length; index++) {\n",
    "      minIndex = indexOfMinimum(array,index);\n",
    "      swap(array, index, minIndex);\n",
    "    console.log('['+array+']');\n",
    "  }\n",
    "};\n",
    "\n",
    "var array = [3,2,1,];\n",
    "console.log('['+array+']');\n",
    "selectionSort(array);\n"
   ]
  },
  {
   "cell_type": "markdown",
   "metadata": {},
   "source": [
    "## F#"
   ]
  },
  {
   "cell_type": "code",
   "execution_count": 1,
   "metadata": {
    "dotnet_interactive": {
     "language": "fsharp"
    },
    "polyglot_notebook": {
     "kernelName": "fsharp"
    }
   },
   "outputs": [
    {
     "name": "stdout",
     "output_type": "stream",
     "text": [
      "ssort [] [3; 2; 1; 4; 1]\n",
      "minimuRest 3 [2; 1; 4; 1]\n",
      "ssort [1] [2; 3; 4; 1]\n",
      "minimuRest 2 [3; 4; 1]\n",
      "ssort [1; 1] [3; 4; 2]\n",
      "minimuRest 3 [4; 2]\n",
      "ssort [2; 1; 1] [4; 3]\n",
      "minimuRest 4 [3]\n",
      "ssort [3; 2; 1; 1] [4]\n",
      "minimuRest 4 []\n",
      "ssort [4; 3; 2; 1; 1] []\n"
     ]
    },
    {
     "data": {
      "text/html": [
       "<div class=\"dni-plaintext\"><pre>[ 1, 1, 2, 3, 4 ]</pre></div><style>\r\n",
       ".dni-code-hint {\r\n",
       "    font-style: italic;\r\n",
       "    overflow: hidden;\r\n",
       "    white-space: nowrap;\r\n",
       "}\r\n",
       ".dni-treeview {\r\n",
       "    white-space: nowrap;\r\n",
       "}\r\n",
       ".dni-treeview td {\r\n",
       "    vertical-align: top;\r\n",
       "    text-align: start;\r\n",
       "}\r\n",
       "details.dni-treeview {\r\n",
       "    padding-left: 1em;\r\n",
       "}\r\n",
       "table td {\r\n",
       "    text-align: start;\r\n",
       "}\r\n",
       "table tr { \r\n",
       "    vertical-align: top; \r\n",
       "    margin: 0em 0px;\r\n",
       "}\r\n",
       "table tr td pre \r\n",
       "{ \r\n",
       "    vertical-align: top !important; \r\n",
       "    margin: 0em 0px !important;\r\n",
       "} \r\n",
       "table th {\r\n",
       "    text-align: start;\r\n",
       "}\r\n",
       "</style>"
      ]
     },
     "metadata": {},
     "output_type": "display_data"
    }
   ],
   "source": [
    "let minimuRest x xs =\n",
    "    printfn \"minimuRest %A %A\" x xs\n",
    "    match xs with\n",
    "    | [] -> x,xs\n",
    "    | _ -> \n",
    "        let min = xs |> List.min\n",
    "        let i = xs |> List.findIndex ((=) min)\n",
    "        let prev,next = (xs[0..i-1]), (xs[i+1..])\n",
    "        match min < x with\n",
    "        | true -> min, prev@[x]@next\n",
    "        | _ -> x,xs\n",
    "\n",
    "let selectionSort xs =\n",
    "    let rec ssort acc xs = \n",
    "        printfn \"ssort %A %A\" acc xs\n",
    "        match xs with\n",
    "        | [] -> acc |> List.rev\n",
    "        | x::xs -> \n",
    "            let min, rest = minimuRest x xs\n",
    "            let res = ssort (min::acc) rest\n",
    "            res\n",
    "    ssort [] xs\n",
    "\n",
    "selectionSort [3;2;1;4;1]"
   ]
  }
 ],
 "metadata": {
  "kernelspec": {
   "display_name": ".NET (F#)",
   "language": "F#",
   "name": ".net-fsharp"
  },
  "language_info": {
   "name": "polyglot-notebook"
  },
  "polyglot_notebook": {
   "kernelInfo": {
    "defaultKernelName": "fsharp",
    "items": [
     {
      "aliases": [],
      "languageName": "fsharp",
      "name": "fsharp"
     }
    ]
   }
  }
 },
 "nbformat": 4,
 "nbformat_minor": 2
}
